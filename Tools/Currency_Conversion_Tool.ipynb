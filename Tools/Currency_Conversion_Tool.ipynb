{
 "cells": [
  {
   "cell_type": "code",
   "execution_count": 4,
   "id": "b0c960df",
   "metadata": {},
   "outputs": [],
   "source": [
    "from langchain_core.tools import tool\n",
    "import requests"
   ]
  },
  {
   "cell_type": "code",
   "execution_count": 37,
   "id": "abb57d76",
   "metadata": {},
   "outputs": [],
   "source": [
    "from langchain_openai import ChatOpenAI\n",
    "from langchain_core.messages import HumanMessage\n",
    "from langchain_core.tools import InjectedToolArg\n",
    "from typing import Annotated"
   ]
  },
  {
   "cell_type": "code",
   "execution_count": null,
   "id": "9e4613c1",
   "metadata": {},
   "outputs": [],
   "source": [
    "@tool\n",
    "def get_conversion_factor(base_currency: str,target_currency: str) ->float:\n",
    "    \"\"\"This function fetches the currency conversion factor between a given base currency and a target currency\"\"\"\n",
    "    url = f'https://v6.exchangerate-api.com/v6/433f7b3e5c80da2b4e8dd706/pair/{base_currency}/{target_currency}'\n",
    "    \n",
    "    response=requests.get(url)\n",
    "\n",
    "    return response.json()\n",
    "\n",
    "@tool\n",
    "def convert(base_currency_value:int, conversion_rate: Annotated[float,InjectedToolArg]) -> float:\n",
    "    \"\"\"Given a currency conversion rate this function calculates the target currency value from a given base currency value\"\"\"\n",
    "\n",
    "    return base_currency_value*conversion_rate"
   ]
  },
  {
   "cell_type": "code",
   "execution_count": 27,
   "id": "bde4e9d4",
   "metadata": {},
   "outputs": [
    {
     "data": {
      "text/plain": [
       "{'result': 'success',\n",
       " 'documentation': 'https://www.exchangerate-api.com/docs',\n",
       " 'terms_of_use': 'https://www.exchangerate-api.com/terms',\n",
       " 'time_last_update_unix': 1746748802,\n",
       " 'time_last_update_utc': 'Fri, 09 May 2025 00:00:02 +0000',\n",
       " 'time_next_update_unix': 1746835202,\n",
       " 'time_next_update_utc': 'Sat, 10 May 2025 00:00:02 +0000',\n",
       " 'base_code': 'USD',\n",
       " 'target_code': 'INR',\n",
       " 'conversion_rate': 85.6035}"
      ]
     },
     "execution_count": 27,
     "metadata": {},
     "output_type": "execute_result"
    }
   ],
   "source": [
    "get_conversion_factor.invoke({\"base_currency\":\"USD\",\"target_currency\":\"INR\"})"
   ]
  },
  {
   "cell_type": "code",
   "execution_count": 33,
   "id": "a3998cb4",
   "metadata": {},
   "outputs": [
    {
     "data": {
      "text/plain": [
       "853.415"
      ]
     },
     "execution_count": 33,
     "metadata": {},
     "output_type": "execute_result"
    }
   ],
   "source": [
    "convert.invoke({\"base_currency_value\":10,\"conversion_rate\":85.3415})"
   ]
  },
  {
   "cell_type": "code",
   "execution_count": null,
   "id": "0a3f55fd",
   "metadata": {},
   "outputs": [],
   "source": [
    "## tool binding\n",
    "\n",
    "llm=ChatOpenAI()"
   ]
  },
  {
   "cell_type": "code",
   "execution_count": null,
   "id": "ec80218b",
   "metadata": {},
   "outputs": [],
   "source": [
    "llm_with_tools=llm.bind_tools([get_conversion_factor,convert])"
   ]
  },
  {
   "cell_type": "code",
   "execution_count": 36,
   "id": "8580d6f1",
   "metadata": {},
   "outputs": [
    {
     "data": {
      "text/plain": [
       "[HumanMessage(content='What is the conversion factor between USD and INR and based on that can you convert 10 usd to inr ', additional_kwargs={}, response_metadata={})]"
      ]
     },
     "execution_count": 36,
     "metadata": {},
     "output_type": "execute_result"
    }
   ],
   "source": [
    "messages=[HumanMessage(\"What is the conversion factor between USD and INR and based on that can you convert 10 usd to inr \")]\n",
    "messages"
   ]
  },
  {
   "cell_type": "code",
   "execution_count": null,
   "id": "c1c7d18d",
   "metadata": {},
   "outputs": [],
   "source": [
    "ai_messages=llm_with_tools.invoke(messages)\n",
    "ai_messages"
   ]
  },
  {
   "cell_type": "code",
   "execution_count": null,
   "id": "d421d7a1",
   "metadata": {},
   "outputs": [],
   "source": [
    "messages.append(ai_messages)"
   ]
  },
  {
   "cell_type": "code",
   "execution_count": null,
   "id": "ccd5a737",
   "metadata": {},
   "outputs": [],
   "source": [
    "ai_message.tool_calls"
   ]
  },
  {
   "cell_type": "code",
   "execution_count": 39,
   "id": "7a2e31c7",
   "metadata": {},
   "outputs": [
    {
     "ename": "NameError",
     "evalue": "name 'ai_messages' is not defined",
     "output_type": "error",
     "traceback": [
      "\u001b[1;31m---------------------------------------------------------------------------\u001b[0m",
      "\u001b[1;31mNameError\u001b[0m                                 Traceback (most recent call last)",
      "Cell \u001b[1;32mIn[39], line 3\u001b[0m\n\u001b[0;32m      1\u001b[0m \u001b[38;5;28;01mimport\u001b[39;00m \u001b[38;5;21;01mjson\u001b[39;00m\n\u001b[1;32m----> 3\u001b[0m \u001b[38;5;28;01mfor\u001b[39;00m tool_call \u001b[38;5;129;01min\u001b[39;00m \u001b[43mai_messages\u001b[49m\u001b[38;5;241m.\u001b[39mtool_calls:\n\u001b[0;32m      4\u001b[0m     \n\u001b[0;32m      5\u001b[0m     \u001b[38;5;66;03m## Excute the first tool and get the value of conversion rate value\u001b[39;00m\n\u001b[0;32m      7\u001b[0m     \u001b[38;5;28;01mif\u001b[39;00m tool_call[\u001b[38;5;124m\"\u001b[39m\u001b[38;5;124mname\u001b[39m\u001b[38;5;124m\"\u001b[39m]\u001b[38;5;241m==\u001b[39m\u001b[38;5;124m\"\u001b[39m\u001b[38;5;124mget_conversion_factor\u001b[39m\u001b[38;5;124m\"\u001b[39m:\n\u001b[0;32m      9\u001b[0m         tool_message1\u001b[38;5;241m=\u001b[39mget_conversion_factor\u001b[38;5;241m.\u001b[39minvoke(tool_call)\n",
      "\u001b[1;31mNameError\u001b[0m: name 'ai_messages' is not defined"
     ]
    }
   ],
   "source": [
    "import json\n",
    "\n",
    "for tool_call in ai_messages.tool_calls:\n",
    "    \n",
    "    ## Excute the first tool and get the value of conversion rate value\n",
    "    \n",
    "    if tool_call[\"name\"]==\"get_conversion_factor\":\n",
    "        \n",
    "        tool_message1=get_conversion_factor.invoke(tool_call)\n",
    "        \n",
    "        ## Fetch this conversion rate\n",
    "        conversion_rate=json.loads(tool_message1.content)['conversion_rate']\n",
    "        \n",
    "        ## Append this tool message to message list\n",
    "        messages.append(tool_messages1)\n",
    "\n",
    "    ## Excute the 2nd tool using conversion rate from tool1\n",
    "\n",
    "    if tool_call['name']==\"convert\":\n",
    "        ## fetch the current arg\n",
    "        \n",
    "        tool_call['args']['conversion_rate']=conversion_rate\n",
    "\n",
    "        ## Excute the convert tool\n",
    "\n",
    "        tool_message2=convert.invoke(tool_call)\n",
    "                \n",
    "        ## Append this tool message to message list\n",
    "        \n",
    "        messages.append(tool_messages1)\n",
    "\n"
   ]
  },
  {
   "cell_type": "code",
   "execution_count": null,
   "id": "da92f640",
   "metadata": {},
   "outputs": [],
   "source": [
    "messages"
   ]
  },
  {
   "cell_type": "code",
   "execution_count": null,
   "id": "4615b856",
   "metadata": {},
   "outputs": [],
   "source": [
    "llm_with_tools.invoke(messages).content"
   ]
  }
 ],
 "metadata": {
  "kernelspec": {
   "display_name": "Python 3",
   "language": "python",
   "name": "python3"
  },
  "language_info": {
   "codemirror_mode": {
    "name": "ipython",
    "version": 3
   },
   "file_extension": ".py",
   "mimetype": "text/x-python",
   "name": "python",
   "nbconvert_exporter": "python",
   "pygments_lexer": "ipython3",
   "version": "3.9.18"
  }
 },
 "nbformat": 4,
 "nbformat_minor": 5
}
