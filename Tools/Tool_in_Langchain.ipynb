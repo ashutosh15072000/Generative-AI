{
 "cells": [
  {
   "cell_type": "code",
   "execution_count": 1,
   "id": "4242f66f",
   "metadata": {},
   "outputs": [],
   "source": [
    "from langchain_community.tools import DuckDuckGoSearchRun"
   ]
  },
  {
   "cell_type": "markdown",
   "id": "f014f20c",
   "metadata": {},
   "source": [
    "## Built In Tools"
   ]
  },
  {
   "cell_type": "code",
   "execution_count": 2,
   "id": "5a17f126",
   "metadata": {},
   "outputs": [
    {
     "name": "stderr",
     "output_type": "stream",
     "text": [
      "a:\\LANGCHAIN\\langchainenv\\lib\\site-packages\\langchain_community\\utilities\\duckduckgo_search.py:62: UserWarning: backend='api' is deprecated, using backend='auto'\n",
      "  ddgs_gen = ddgs.text(\n"
     ]
    },
    {
     "name": "stdout",
     "output_type": "stream",
     "text": [
      "IPL 2025 LIVE Updates: The 58th league match of the IPL 2025 between Punjab Kings and Delhi Capitals at Himachal Pradesh Cricket Association (HPCA) Stadium in Dharamsala on Thursday (May 8) was cancelled after 10.1 overs of play in the first half following air raid alerts in neighbouring Indian cities of Jammu and Pathankot, which has now put the entire league at risk of being called off. IPL 2025 LIVE: The IPL match between Punjab Kings and Delhi Capitals here on Thursday was cancelled midway following air raid alerts in neighbouring ... Sports News. Cricket News. IPL 2025 LIVE ... IPL 2025: The Indian Premier League's future is uncertain following the cancellation of the PBKS vs. DC match in Dharamsala due to air raid alerts linked to India's escalated border tensions with Pakistan. BCCI Vice-President Rajeev Shukla announced that a meeting would be convened to discuss the status of the remaining IPL 2025 matches., Cricket News - Times Now The IPL 2025 fixture between Punjab Kings and Delhi Capitals in Dharamsala was called off after 10.1 overs amid escalating tensions on the India-Pakistan border. Just past the midway point of the ... The future of the Indian Premier League (IPL) 2025 now looms in uncertainty after match number 58 of the season between Punjab Kings (PBKS) and Delhi Capitals (DC) on Thursday was called off following raid sirens in nearby cities amidst the cross-border clash between India and Pakistan. However ...\n"
     ]
    }
   ],
   "source": [
    "search_tool=DuckDuckGoSearchRun()\n",
    "\n",
    "results=search_tool.invoke(\"ipl news\")\n",
    "\n",
    "print(results)"
   ]
  },
  {
   "cell_type": "markdown",
   "id": "75c2ed6d",
   "metadata": {},
   "source": [
    "## Shell Tool"
   ]
  },
  {
   "cell_type": "code",
   "execution_count": 4,
   "id": "1c0ad83d",
   "metadata": {},
   "outputs": [
    {
     "name": "stdout",
     "output_type": "stream",
     "text": [
      "Executing command:\n",
      " whoami\n",
      "desktop-60r9e2m\\ayush\n",
      "\n"
     ]
    },
    {
     "name": "stderr",
     "output_type": "stream",
     "text": [
      "a:\\LANGCHAIN\\langchainenv\\lib\\site-packages\\langchain_community\\tools\\shell\\tool.py:32: UserWarning: The shell tool has no safeguards by default. Use at your own risk.\n",
      "  warnings.warn(\n"
     ]
    }
   ],
   "source": [
    "from langchain_community.tools import ShellTool\n",
    "\n",
    "shell_tool=ShellTool()\n",
    "\n",
    "results=shell_tool.invoke(\"whoami\")\n",
    "\n",
    "print(results)"
   ]
  },
  {
   "cell_type": "markdown",
   "id": "d7be66dd",
   "metadata": {},
   "source": [
    "## Creating Custom tools"
   ]
  },
  {
   "cell_type": "code",
   "execution_count": 5,
   "id": "6c3a678d",
   "metadata": {},
   "outputs": [],
   "source": [
    "from langchain_core.tools import tool"
   ]
  },
  {
   "cell_type": "markdown",
   "id": "f5f98b0e",
   "metadata": {},
   "source": [
    "#####  Step 1 Create a Function"
   ]
  },
  {
   "cell_type": "code",
   "execution_count": 6,
   "id": "6a3b97a4",
   "metadata": {},
   "outputs": [],
   "source": [
    "def multiply(a,b):\n",
    "    \"\"\"Multiply two number\"\"\"\n",
    "    return a*b"
   ]
  },
  {
   "cell_type": "markdown",
   "id": "d8a11c40",
   "metadata": {},
   "source": [
    "#### Step 2 - Add Type Hints"
   ]
  },
  {
   "cell_type": "code",
   "execution_count": 7,
   "id": "3caff012",
   "metadata": {},
   "outputs": [],
   "source": [
    "def multiply(a: int, b: int) -> int:\n",
    "    \"\"\"Multiply two numbers\"\"\"\n",
    "    return a*b\n"
   ]
  },
  {
   "cell_type": "markdown",
   "id": "66a48542",
   "metadata": {},
   "source": [
    "#### Step 3 - Add Tool Decorator"
   ]
  },
  {
   "cell_type": "code",
   "execution_count": 20,
   "id": "ea1b91ec",
   "metadata": {},
   "outputs": [],
   "source": [
    "@tool\n",
    "def multiply(a: int, b: int) -> int:\n",
    "    \"\"\"Multiply two numbers\"\"\"\n",
    "    return a*b"
   ]
  },
  {
   "cell_type": "code",
   "execution_count": 21,
   "id": "fc012af4",
   "metadata": {},
   "outputs": [
    {
     "name": "stdout",
     "output_type": "stream",
     "text": [
      "32\n"
     ]
    }
   ],
   "source": [
    "result=multiply.invoke({\"a\":4,\"b\":8})\n",
    "print(result)"
   ]
  },
  {
   "cell_type": "code",
   "execution_count": 22,
   "id": "4f87e058",
   "metadata": {},
   "outputs": [
    {
     "name": "stdout",
     "output_type": "stream",
     "text": [
      "{'a': {'title': 'A', 'type': 'integer'}, 'b': {'title': 'B', 'type': 'integer'}}\n",
      "Multiply two numbers\n",
      "multiply\n"
     ]
    }
   ],
   "source": [
    "print(multiply.args)\n",
    "print(multiply.description)\n",
    "print(multiply.name)"
   ]
  },
  {
   "cell_type": "code",
   "execution_count": 23,
   "id": "f7ffc083",
   "metadata": {},
   "outputs": [
    {
     "ename": "AttributeError",
     "evalue": "type object 'multiplySchema' has no attribute 'model_json_schema'",
     "output_type": "error",
     "traceback": [
      "\u001b[1;31m---------------------------------------------------------------------------\u001b[0m",
      "\u001b[1;31mAttributeError\u001b[0m                            Traceback (most recent call last)",
      "Cell \u001b[1;32mIn[23], line 1\u001b[0m\n\u001b[1;32m----> 1\u001b[0m \u001b[38;5;28mprint\u001b[39m(\u001b[43mmultiply\u001b[49m\u001b[38;5;241;43m.\u001b[39;49m\u001b[43margs_schema\u001b[49m\u001b[38;5;241;43m.\u001b[39;49m\u001b[43mmodel_json_schema\u001b[49m())\n",
      "\u001b[1;31mAttributeError\u001b[0m: type object 'multiplySchema' has no attribute 'model_json_schema'"
     ]
    }
   ],
   "source": [
    "print(multiply.args_schema.model_json_schema())"
   ]
  },
  {
   "cell_type": "markdown",
   "id": "3b4dda36",
   "metadata": {},
   "source": [
    "#### Method 2 Using Structured Tool and Pydantic "
   ]
  },
  {
   "cell_type": "code",
   "execution_count": 24,
   "id": "60ce88ed",
   "metadata": {},
   "outputs": [],
   "source": [
    "from langchain.tools import StructuredTool\n",
    "from pydantic import BaseModel,Field"
   ]
  },
  {
   "cell_type": "code",
   "execution_count": 25,
   "id": "7dced8c4",
   "metadata": {},
   "outputs": [],
   "source": [
    "class MultiplyInput(BaseModel):\n",
    "    a: int= Field(description=\"The First number to add \",required=True)\n",
    "    b: int= Field(description=\"The Second number to add\",required=True)"
   ]
  },
  {
   "cell_type": "code",
   "execution_count": 26,
   "id": "2af32fd0",
   "metadata": {},
   "outputs": [],
   "source": [
    "def multiply_func(a: int,b: int) ->int:\n",
    "    return a*b"
   ]
  },
  {
   "cell_type": "code",
   "execution_count": 28,
   "id": "e28482e8",
   "metadata": {},
   "outputs": [],
   "source": [
    "multiply_tool=StructuredTool.from_function(\n",
    "    func=multiply_func,\n",
    "    name=\"multiply\",\n",
    "    description=\"multiply two numbers\",\n",
    "    args_schema=MultiplyInput\n",
    "\n",
    ")"
   ]
  },
  {
   "cell_type": "code",
   "execution_count": 29,
   "id": "ecca0ab1",
   "metadata": {},
   "outputs": [
    {
     "data": {
      "text/plain": [
       "1288"
      ]
     },
     "execution_count": 29,
     "metadata": {},
     "output_type": "execute_result"
    }
   ],
   "source": [
    "result=multiply_tool.invoke({\"a\":23,\"b\":56})\n",
    "result"
   ]
  },
  {
   "cell_type": "code",
   "execution_count": 30,
   "id": "045d7e87",
   "metadata": {},
   "outputs": [
    {
     "name": "stdout",
     "output_type": "stream",
     "text": [
      "{'a': {'description': 'The First number to add ', 'required': True, 'title': 'A', 'type': 'integer'}, 'b': {'description': 'The Second number to add', 'required': True, 'title': 'B', 'type': 'integer'}}\n",
      "multiply two numbers\n",
      "multiply\n"
     ]
    }
   ],
   "source": [
    "print(multiply_tool.args)\n",
    "print(multiply_tool.description)\n",
    "print(multiply_tool.name)"
   ]
  },
  {
   "cell_type": "markdown",
   "id": "a71162c9",
   "metadata": {},
   "source": [
    "#### Method 3 Using Base Tool Class"
   ]
  },
  {
   "cell_type": "code",
   "execution_count": 31,
   "id": "5b80c47c",
   "metadata": {},
   "outputs": [],
   "source": [
    "from langchain.tools import BaseTool\n",
    "from typing import Type"
   ]
  },
  {
   "cell_type": "code",
   "execution_count": null,
   "id": "37bb4806",
   "metadata": {},
   "outputs": [],
   "source": [
    "class MultiplyInput(BaseModel):\n",
    "    a: int = Field(description=\"the first number to add\",required=True)\n",
    "    b: int= Field(description=\"Second number to add\",required=True)\n"
   ]
  },
  {
   "cell_type": "code",
   "execution_count": 33,
   "id": "b0d08853",
   "metadata": {},
   "outputs": [],
   "source": [
    "class MultiplyTool(BaseTool):\n",
    "    name: str = \"multiply\"\n",
    "    description: str = \"Multiply two number\"\n",
    "\n",
    "    args_schema: Type[BaseModel] = MultiplyInput\n",
    "\n",
    "    def _run(self, a: int,b: int) -> int:\n",
    "        return a*b"
   ]
  },
  {
   "cell_type": "code",
   "execution_count": 34,
   "id": "d6f7213d",
   "metadata": {},
   "outputs": [],
   "source": [
    "multiply_tool=MultiplyTool()"
   ]
  },
  {
   "cell_type": "code",
   "execution_count": 35,
   "id": "bd22dd73",
   "metadata": {},
   "outputs": [
    {
     "data": {
      "text/plain": [
       "32"
      ]
     },
     "execution_count": 35,
     "metadata": {},
     "output_type": "execute_result"
    }
   ],
   "source": [
    "result=multiply_tool.invoke({\"a\":4,\"b\":8})\n",
    "result"
   ]
  },
  {
   "cell_type": "markdown",
   "id": "1aff7e2d",
   "metadata": {},
   "source": [
    "#### ToolKit"
   ]
  },
  {
   "cell_type": "code",
   "execution_count": 36,
   "id": "a50ac31a",
   "metadata": {},
   "outputs": [],
   "source": [
    "@tool\n",
    "def add(a: int, b: int) -> int:\n",
    "    \"\"\"add two numbers\"\"\"\n",
    "    return a+b\n",
    "@tool\n",
    "def multiply(a: int, b: int) -> int:\n",
    "    \"\"\"Multiply two numbers\"\"\"\n",
    "    return a*b"
   ]
  },
  {
   "cell_type": "code",
   "execution_count": 37,
   "id": "85af496c",
   "metadata": {},
   "outputs": [],
   "source": [
    "class MathToolkit:\n",
    "    def get_tools(self):\n",
    "        return [add,multiply]"
   ]
  },
  {
   "cell_type": "code",
   "execution_count": 38,
   "id": "1690c7c2",
   "metadata": {},
   "outputs": [
    {
     "name": "stdout",
     "output_type": "stream",
     "text": [
      "add => add two numbers\n",
      "multiply => Multiply two numbers\n"
     ]
    }
   ],
   "source": [
    "toolkit=MathToolkit()\n",
    "tools=toolkit.get_tools()\n",
    "for tool in tools:\n",
    "    print(tool.name,\"=>\",tool.description)"
   ]
  },
  {
   "cell_type": "code",
   "execution_count": null,
   "id": "050e14a0",
   "metadata": {},
   "outputs": [],
   "source": []
  }
 ],
 "metadata": {
  "kernelspec": {
   "display_name": "Python 3",
   "language": "python",
   "name": "python3"
  },
  "language_info": {
   "codemirror_mode": {
    "name": "ipython",
    "version": 3
   },
   "file_extension": ".py",
   "mimetype": "text/x-python",
   "name": "python",
   "nbconvert_exporter": "python",
   "pygments_lexer": "ipython3",
   "version": "3.9.18"
  }
 },
 "nbformat": 4,
 "nbformat_minor": 5
}
